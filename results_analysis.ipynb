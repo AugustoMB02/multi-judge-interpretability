{
 "cells": [
  {
   "cell_type": "code",
   "execution_count": 131,
   "metadata": {},
   "outputs": [],
   "source": [
    "import pandas as pd\n",
    "pd.set_option('display.max_colwidth', 100)"
   ]
  },
  {
   "cell_type": "markdown",
   "metadata": {},
   "source": [
    "## Analyzing the simulated human annotated scores"
   ]
  },
  {
   "cell_type": "code",
   "execution_count": 44,
   "metadata": {},
   "outputs": [
    {
     "name": "stdout",
     "output_type": "stream",
     "text": [
      "207\n"
     ]
    },
    {
     "data": {
      "text/html": [
       "<div>\n",
       "<style scoped>\n",
       "    .dataframe tbody tr th:only-of-type {\n",
       "        vertical-align: middle;\n",
       "    }\n",
       "\n",
       "    .dataframe tbody tr th {\n",
       "        vertical-align: top;\n",
       "    }\n",
       "\n",
       "    .dataframe thead th {\n",
       "        text-align: right;\n",
       "    }\n",
       "</style>\n",
       "<table border=\"1\" class=\"dataframe\">\n",
       "  <thead>\n",
       "    <tr style=\"text-align: right;\">\n",
       "      <th></th>\n",
       "      <th>source</th>\n",
       "      <th>instruction</th>\n",
       "      <th>model</th>\n",
       "      <th>answer</th>\n",
       "      <th>score</th>\n",
       "      <th>grader</th>\n",
       "      <th>human_feedback</th>\n",
       "      <th>human_feedback_score</th>\n",
       "      <th>human_feedback_analysis</th>\n",
       "      <th>persona_name</th>\n",
       "      <th>persona_bio</th>\n",
       "    </tr>\n",
       "  </thead>\n",
       "  <tbody>\n",
       "    <tr>\n",
       "      <th>0</th>\n",
       "      <td>flan_v2_niv2</td>\n",
       "      <td>The task is about translation from Telugu to English. While performing the translation you must ...</td>\n",
       "      <td>wizardlm-70b</td>\n",
       "      <td>[A]: Oh no!</td>\n",
       "      <td>6.0</td>\n",
       "      <td>wizardlm-70b</td>\n",
       "      <td>{'analysis': 'The answer conveys a sudden, negative reaction but may not fully capture the Telug...</td>\n",
       "      <td>7</td>\n",
       "      <td>The answer conveys a sudden, negative reaction but may not fully capture the Telugu expression's...</td>\n",
       "      <td>Luna Martinez - Novelist</td>\n",
       "      <td>Luna Martinez, a novelist and poet who appreciates eloquent language, creative analogies, and en...</td>\n",
       "    </tr>\n",
       "    <tr>\n",
       "      <th>1</th>\n",
       "      <td>sharegpt</td>\n",
       "      <td>can you explain this alert configuration?\\n\\nConfiguration\\nDB LOOKUP\\naverage of the sum of dim...</td>\n",
       "      <td>llama-2-70b-chat</td>\n",
       "      <td>Sure, I'd be happy to explain this alert configuration!\\n\\nThis alert configuration is set up to...</td>\n",
       "      <td>7.0</td>\n",
       "      <td>llama-2-70b-chat</td>\n",
       "      <td>{'analysis': 'The explanation is thorough but dry, lacking a creative touch to make the technica...</td>\n",
       "      <td>6</td>\n",
       "      <td>The explanation is thorough but dry, lacking a creative touch to make the technical details more...</td>\n",
       "      <td>Luna Martinez - Novelist</td>\n",
       "      <td>Luna Martinez, a novelist and poet who appreciates eloquent language, creative analogies, and en...</td>\n",
       "    </tr>\n",
       "  </tbody>\n",
       "</table>\n",
       "</div>"
      ],
      "text/plain": [
       "         source  \\\n",
       "0  flan_v2_niv2   \n",
       "1      sharegpt   \n",
       "\n",
       "                                                                                           instruction  \\\n",
       "0  The task is about translation from Telugu to English. While performing the translation you must ...   \n",
       "1  can you explain this alert configuration?\\n\\nConfiguration\\nDB LOOKUP\\naverage of the sum of dim...   \n",
       "\n",
       "              model  \\\n",
       "0      wizardlm-70b   \n",
       "1  llama-2-70b-chat   \n",
       "\n",
       "                                                                                                answer  \\\n",
       "0                                                                                          [A]: Oh no!   \n",
       "1  Sure, I'd be happy to explain this alert configuration!\\n\\nThis alert configuration is set up to...   \n",
       "\n",
       "   score            grader  \\\n",
       "0    6.0      wizardlm-70b   \n",
       "1    7.0  llama-2-70b-chat   \n",
       "\n",
       "                                                                                        human_feedback  \\\n",
       "0  {'analysis': 'The answer conveys a sudden, negative reaction but may not fully capture the Telug...   \n",
       "1  {'analysis': 'The explanation is thorough but dry, lacking a creative touch to make the technica...   \n",
       "\n",
       "  human_feedback_score  \\\n",
       "0                    7   \n",
       "1                    6   \n",
       "\n",
       "                                                                               human_feedback_analysis  \\\n",
       "0  The answer conveys a sudden, negative reaction but may not fully capture the Telugu expression's...   \n",
       "1  The explanation is thorough but dry, lacking a creative touch to make the technical details more...   \n",
       "\n",
       "               persona_name  \\\n",
       "0  Luna Martinez - Novelist   \n",
       "1  Luna Martinez - Novelist   \n",
       "\n",
       "                                                                                           persona_bio  \n",
       "0  Luna Martinez, a novelist and poet who appreciates eloquent language, creative analogies, and en...  \n",
       "1  Luna Martinez, a novelist and poet who appreciates eloquent language, creative analogies, and en...  "
      ]
     },
     "execution_count": 44,
     "metadata": {},
     "output_type": "execute_result"
    }
   ],
   "source": [
    "df = pd.read_pickle('dataset/data_with_human_feedback.pickle')\n",
    "df.dropna(inplace=True)\n",
    "df.head(2)"
   ]
  },
  {
   "cell_type": "code",
   "execution_count": 32,
   "metadata": {},
   "outputs": [
    {
     "name": "stdout",
     "output_type": "stream",
     "text": [
      "Pearson correlation coefficient: 0.704\n",
      "P-value: 0.000\n"
     ]
    },
    {
     "data": {
      "image/png": "[encoded data removed]",
      "text/plain": [
       "<Figure size 640x480 with 2 Axes>"
      ]
     },
     "metadata": {},
     "output_type": "display_data"
    }
   ],
   "source": [
    "# plot histogram of scores and calculate correlation\n",
    "import matplotlib.pyplot as plt\n",
    "import scipy.stats as stats\n",
    "\n",
    "# Convert scores to numeric type\n",
    "df['score'] = pd.to_numeric(df['score'])\n",
    "df['human_feedback_score'] = pd.to_numeric(df['human_feedback_score'])\n",
    "\n",
    "# Calculate correlation\n",
    "correlation, p_value = stats.pearsonr(df['score'], df['human_feedback_score'])\n",
    "print(f\"Pearson correlation coefficient: {correlation:.3f}\")\n",
    "print(f\"P-value: {p_value:.3f}\")\n",
    "\n",
    "# Plot\n",
    "plt.hist2d(df['score'], df['human_feedback_score'], bins=10, cmap='viridis')\n",
    "plt.colorbar(label='Count')\n",
    "plt.xlabel('Score') \n",
    "plt.ylabel('Human Feedback Score')\n",
    "plt.show()"
   ]
  },
  {
   "cell_type": "code",
   "execution_count": 34,
   "metadata": {},
   "outputs": [
    {
     "data": {
      "text/plain": [
       "label\n",
       "OTHER                  1176\n",
       "TEXT_TRANSFORMATION     616\n",
       "FACTUAL_QA              500\n",
       "CODE_GENERATION         380\n",
       "PLANNING/STRATEGY       234\n",
       "REASONING_PROBLEM       173\n",
       "CLASSIFICATION_TASK     157\n",
       "CREATIVE_WRITING         90\n",
       "SUMMARIZATION            67\n",
       "Name: count, dtype: int64"
      ]
     },
     "execution_count": 34,
     "metadata": {},
     "output_type": "execute_result"
    }
   ],
   "source": [
    "import re\n",
    "# Broadly classify each question type. The ones in \"other\" are gonna be passed to an LLM to be classified.\n",
    "\n",
    "def classify(instr):\n",
    "    s = instr.lower()\n",
    "    if any(k in s for k in ['translate', 'translation', 'convert', 'passive voice', 'to passive', 'transform', 'format']) or re.search(r'\\bfrom the .+? language\\b', s):\n",
    "        return 'TEXT_TRANSFORMATION'\n",
    "    if 'summary' in s or 'summarize' in s or 'action item' in s:\n",
    "        return 'SUMMARIZATION'\n",
    "    if any(k in s for k in ['script','code','python','bash','batch','fortran','cypress','xml code','matlab']):\n",
    "        return 'CODE_GENERATION'\n",
    "    if any(k in s for k in ['write a story', 'write a rap', 'poem', 'scene', 'essay', 'podcast', 'free verse', 'creative', 'd&d', 'rpg']):\n",
    "        return 'CREATIVE_WRITING'\n",
    "    if any(k in s for k in ['step-by-step', 'stream of consciousness', 'reasoning', 'math', 'calculate', 'word problem', 'how many']):\n",
    "        return 'REASONING_PROBLEM'\n",
    "    if any(k in s for k in ['classify', 'yes or no', 'sentiment', 'label', 'inference', 'mcq']):\n",
    "        return 'CLASSIFICATION_TASK'\n",
    "    if any(k in s for k in ['plan', 'strategy', 'program', 'campaign', 'outline', 'timeline']):\n",
    "        return 'PLANNING/STRATEGY'\n",
    "    if any(k in s for k in ['explain', 'what', 'how', 'describe']) and len(s) < 200:\n",
    "        return 'FACTUAL_QA'\n",
    "    return 'OTHER'\n",
    "    \n",
    "df['label'] = df['instruction'].apply(classify)\n",
    "df['label'].value_counts()"
   ]
  },
  {
   "cell_type": "markdown",
   "metadata": {},
   "source": [
    "## Judge Metrics"
   ]
  },
  {
   "cell_type": "code",
   "execution_count": 129,
   "metadata": {},
   "outputs": [],
   "source": [
    "import pickle\n",
    "# Load the pd dataframe with the judges scores, and convert them to a list \n",
    "df = pd.read_pickle('dataset/data_with_judge_scores.pkl')\n",
    "df.dropna(subset=['scores'], inplace=True)\n",
    "df.head(2)\n",
    "# Save a list of dicts with scores and target\n",
    "scores_dict = [{\"scores\": list(score), \"target\": float(target)} for score, target in zip(df['scores'], df['human_feedback_score']) if not pd.isna(target)]\n",
    "\n",
    "df.to_pickle('data_with_judge_scores.pkl')\n",
    "with open('dataset/train_data.pkl', 'wb') as f:\n",
    "    pickle.dump(scores_dict, f)"
   ]
  }
 ],
 "metadata": {
  "kernelspec": {
   "display_name": ".venv",
   "language": "python",
   "name": "python3"
  },
  "language_info": {
   "codemirror_mode": {
    "name": "ipython",
    "version": 3
   },
   "file_extension": ".py",
   "mimetype": "text/x-python",
   "name": "python",
   "nbconvert_exporter": "python",
   "pygments_lexer": "ipython3",
   "version": "3.12.3"
  }
 },
 "nbformat": 4,
 "nbformat_minor": 2
}
