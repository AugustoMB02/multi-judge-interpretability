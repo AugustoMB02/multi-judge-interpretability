{
 "cells": [
  {
   "cell_type": "code",
   "execution_count": 2,
   "metadata": {},
   "outputs": [],
   "source": [
    "import pandas as pd"
   ]
  },
  {
   "cell_type": "markdown",
   "metadata": {},
   "source": [
    "## Analyzing the simulated human annotated scores"
   ]
  },
  {
   "cell_type": "code",
   "execution_count": 8,
   "metadata": {},
   "outputs": [
    {
     "data": {
      "text/html": [
       "<div>\n",
       "<style scoped>\n",
       "    .dataframe tbody tr th:only-of-type {\n",
       "        vertical-align: middle;\n",
       "    }\n",
       "\n",
       "    .dataframe tbody tr th {\n",
       "        vertical-align: top;\n",
       "    }\n",
       "\n",
       "    .dataframe thead th {\n",
       "        text-align: right;\n",
       "    }\n",
       "</style>\n",
       "<table border=\"1\" class=\"dataframe\">\n",
       "  <thead>\n",
       "    <tr style=\"text-align: right;\">\n",
       "      <th></th>\n",
       "      <th>source</th>\n",
       "      <th>instruction</th>\n",
       "      <th>model</th>\n",
       "      <th>answer</th>\n",
       "      <th>score</th>\n",
       "      <th>grader</th>\n",
       "      <th>human_feedback</th>\n",
       "      <th>human_feedback_score</th>\n",
       "      <th>human_feedback_analysis</th>\n",
       "      <th>persona_name</th>\n",
       "      <th>persona_bio</th>\n",
       "    </tr>\n",
       "  </thead>\n",
       "  <tbody>\n",
       "    <tr>\n",
       "      <th>0</th>\n",
       "      <td>flan_v2_niv2</td>\n",
       "      <td>The task is about translation from Telugu to E...</td>\n",
       "      <td>wizardlm-70b</td>\n",
       "      <td>[A]: Oh no!</td>\n",
       "      <td>6.0</td>\n",
       "      <td>wizardlm-70b</td>\n",
       "      <td>{'analysis': 'The answer conveys a sudden, neg...</td>\n",
       "      <td>7</td>\n",
       "      <td>The answer conveys a sudden, negative reaction...</td>\n",
       "      <td>Luna Martinez - Novelist</td>\n",
       "      <td>Luna Martinez, a novelist and poet who appreci...</td>\n",
       "    </tr>\n",
       "    <tr>\n",
       "      <th>1</th>\n",
       "      <td>sharegpt</td>\n",
       "      <td>can you explain this alert configuration?\\n\\nC...</td>\n",
       "      <td>llama-2-70b-chat</td>\n",
       "      <td>Sure, I'd be happy to explain this alert confi...</td>\n",
       "      <td>7.0</td>\n",
       "      <td>llama-2-70b-chat</td>\n",
       "      <td>{'analysis': 'The explanation is thorough but ...</td>\n",
       "      <td>6</td>\n",
       "      <td>The explanation is thorough but dry, lacking a...</td>\n",
       "      <td>Luna Martinez - Novelist</td>\n",
       "      <td>Luna Martinez, a novelist and poet who appreci...</td>\n",
       "    </tr>\n",
       "    <tr>\n",
       "      <th>2</th>\n",
       "      <td>flan_v2_niv2</td>\n",
       "      <td>Q: You are given a sentence in Arabic. Your jo...</td>\n",
       "      <td>vicuna-33b</td>\n",
       "      <td>Per questo, non esiste una strategia che si co...</td>\n",
       "      <td>9.0</td>\n",
       "      <td>vicuna-33b</td>\n",
       "      <td>{'analysis': 'The translation is clear and con...</td>\n",
       "      <td>7</td>\n",
       "      <td>The translation is clear and concise, conveyin...</td>\n",
       "      <td>Luna Martinez - Novelist</td>\n",
       "      <td>Luna Martinez, a novelist and poet who appreci...</td>\n",
       "    </tr>\n",
       "    <tr>\n",
       "      <th>3</th>\n",
       "      <td>evol_instruct</td>\n",
       "      <td>Can you suggest some specific actions or strat...</td>\n",
       "      <td>llama-2-70b-chat</td>\n",
       "      <td>Thank you for asking! I'm happy to help you wi...</td>\n",
       "      <td>8.5</td>\n",
       "      <td>llama-2-70b-chat</td>\n",
       "      <td>{'analysis': 'The answer provides a comprehens...</td>\n",
       "      <td>6</td>\n",
       "      <td>The answer provides a comprehensive list of st...</td>\n",
       "      <td>Sarah Chen - University Professor</td>\n",
       "      <td>Dr. Sarah Chen, a rigorous university professo...</td>\n",
       "    </tr>\n",
       "    <tr>\n",
       "      <th>4</th>\n",
       "      <td>sharegpt</td>\n",
       "      <td>I want you to act as a Content writer very pro...</td>\n",
       "      <td>wizardlm-7b</td>\n",
       "      <td>Hammocks and swings can be a great choice for ...</td>\n",
       "      <td>6.0</td>\n",
       "      <td>wizardlm-7b</td>\n",
       "      <td>{'analysis': 'The article provides a clear int...</td>\n",
       "      <td>6</td>\n",
       "      <td>The article provides a clear introduction to h...</td>\n",
       "      <td>Jamie Park - College Student</td>\n",
       "      <td>Jamie Park, an enthusiastic college junior who...</td>\n",
       "    </tr>\n",
       "  </tbody>\n",
       "</table>\n",
       "</div>"
      ],
      "text/plain": [
       "          source                                        instruction  \\\n",
       "0   flan_v2_niv2  The task is about translation from Telugu to E...   \n",
       "1       sharegpt  can you explain this alert configuration?\\n\\nC...   \n",
       "2   flan_v2_niv2  Q: You are given a sentence in Arabic. Your jo...   \n",
       "3  evol_instruct  Can you suggest some specific actions or strat...   \n",
       "4       sharegpt  I want you to act as a Content writer very pro...   \n",
       "\n",
       "              model                                             answer  score  \\\n",
       "0      wizardlm-70b                                        [A]: Oh no!    6.0   \n",
       "1  llama-2-70b-chat  Sure, I'd be happy to explain this alert confi...    7.0   \n",
       "2        vicuna-33b  Per questo, non esiste una strategia che si co...    9.0   \n",
       "3  llama-2-70b-chat  Thank you for asking! I'm happy to help you wi...    8.5   \n",
       "4       wizardlm-7b  Hammocks and swings can be a great choice for ...    6.0   \n",
       "\n",
       "             grader                                     human_feedback  \\\n",
       "0      wizardlm-70b  {'analysis': 'The answer conveys a sudden, neg...   \n",
       "1  llama-2-70b-chat  {'analysis': 'The explanation is thorough but ...   \n",
       "2        vicuna-33b  {'analysis': 'The translation is clear and con...   \n",
       "3  llama-2-70b-chat  {'analysis': 'The answer provides a comprehens...   \n",
       "4       wizardlm-7b  {'analysis': 'The article provides a clear int...   \n",
       "\n",
       "  human_feedback_score                            human_feedback_analysis  \\\n",
       "0                    7  The answer conveys a sudden, negative reaction...   \n",
       "1                    6  The explanation is thorough but dry, lacking a...   \n",
       "2                    7  The translation is clear and concise, conveyin...   \n",
       "3                    6  The answer provides a comprehensive list of st...   \n",
       "4                    6  The article provides a clear introduction to h...   \n",
       "\n",
       "                        persona_name  \\\n",
       "0           Luna Martinez - Novelist   \n",
       "1           Luna Martinez - Novelist   \n",
       "2           Luna Martinez - Novelist   \n",
       "3  Sarah Chen - University Professor   \n",
       "4       Jamie Park - College Student   \n",
       "\n",
       "                                         persona_bio  \n",
       "0  Luna Martinez, a novelist and poet who appreci...  \n",
       "1  Luna Martinez, a novelist and poet who appreci...  \n",
       "2  Luna Martinez, a novelist and poet who appreci...  \n",
       "3  Dr. Sarah Chen, a rigorous university professo...  \n",
       "4  Jamie Park, an enthusiastic college junior who...  "
      ]
     },
     "execution_count": 8,
     "metadata": {},
     "output_type": "execute_result"
    }
   ],
   "source": [
    "df = pd.read_pickle('dataset/data_with_human_feedback.pickle')\n",
    "df.dropna(inplace=True)\n",
    "df.head()"
   ]
  },
  {
   "cell_type": "code",
   "execution_count": 9,
   "metadata": {},
   "outputs": [
    {
     "name": "stdout",
     "output_type": "stream",
     "text": [
      "Pearson correlation coefficient: 0.737\n",
      "P-value: 0.000\n"
     ]
    },
    {
     "data": {
      "image/png": "[encoded data removed]",
      "text/plain": [
       "<Figure size 640x480 with 2 Axes>"
      ]
     },
     "metadata": {},
     "output_type": "display_data"
    }
   ],
   "source": [
    "# plot histogram of scores and calculate correlation\n",
    "import matplotlib.pyplot as plt\n",
    "import scipy.stats as stats\n",
    "\n",
    "# Convert scores to numeric type\n",
    "df['score'] = pd.to_numeric(df['score'])\n",
    "df['human_feedback_score'] = pd.to_numeric(df['human_feedback_score'])\n",
    "\n",
    "# Calculate correlation\n",
    "correlation, p_value = stats.pearsonr(df['score'], df['human_feedback_score'])\n",
    "print(f\"Pearson correlation coefficient: {correlation:.3f}\")\n",
    "print(f\"P-value: {p_value:.3f}\")\n",
    "\n",
    "# Plot\n",
    "plt.hist2d(df['score'], df['human_feedback_score'], bins=10, cmap='viridis')\n",
    "plt.colorbar(label='Count')\n",
    "plt.xlabel('Score') \n",
    "plt.ylabel('Human Feedback Score')\n",
    "plt.show()"
   ]
  }
 ],
 "metadata": {
  "kernelspec": {
   "display_name": ".venv",
   "language": "python",
   "name": "python3"
  },
  "language_info": {
   "codemirror_mode": {
    "name": "ipython",
    "version": 3
   },
   "file_extension": ".py",
   "mimetype": "text/x-python",
   "name": "python",
   "nbconvert_exporter": "python",
   "pygments_lexer": "ipython3",
   "version": "3.12.3"
  }
 },
 "nbformat": 4,
 "nbformat_minor": 2
}
