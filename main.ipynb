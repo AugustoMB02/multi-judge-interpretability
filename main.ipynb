{
 "cells": [
  {
   "cell_type": "code",
   "execution_count": 3,
   "metadata": {},
   "outputs": [
    {
     "name": "stdout",
     "output_type": "stream",
     "text": [
      "Completion(id='cmpl-053a7099-901c-44f9-bf1a-6cbfa433ceda', choices=[CompletionChoice(finish_reason='length', index=0, logprobs=None, text=' being used more and more in education. Some people say that this is a positive', stop_reason=None, prompt_logprobs=None)], created=1748755608, model='llama-4-maverick-17b-128e-instruct-fp8', object='text_completion', system_fingerprint=None, usage=CompletionUsage(completion_tokens=16, prompt_tokens=4, total_tokens=20, completion_tokens_details=None, prompt_tokens_details=None))\n"
     ]
    }
   ],
   "source": [
    "from openai import OpenAI\n",
    "\n",
    "# Set API credentials and endpoint\n",
    "openai_api_key = \"secret_fernando_fdf81c6dbbb4439c81098e4d58abd3d2.dzPrg0qR9WlHRYpCJZrz0nfaGYNonEnp\"\n",
    "openai_api_base = \"https://api.lambda.ai/v1\"\n",
    "\n",
    "# Initialize the OpenAI client\n",
    "client = OpenAI(\n",
    "    api_key=openai_api_key,\n",
    "    base_url=openai_api_base,\n",
    ")\n",
    "\n",
    "# Choose the model\n",
    "model = \"llama-4-maverick-17b-128e-instruct-fp8\"\n",
    "\n",
    "# Create a text completion request using a prompt\n",
    "response = client.completions.create(\n",
    "  prompt=\"Computers are\",\n",
    "  temperature=0,\n",
    "  model=model,\n",
    ")\n",
    "\n",
    "# Print the full completion response\n",
    "print(response)"
   ]
  }
 ],
 "metadata": {
  "kernelspec": {
   "display_name": ".venv",
   "language": "python",
   "name": "python3"
  },
  "language_info": {
   "codemirror_mode": {
    "name": "ipython",
    "version": 3
   },
   "file_extension": ".py",
   "mimetype": "text/x-python",
   "name": "python",
   "nbconvert_exporter": "python",
   "pygments_lexer": "ipython3",
   "version": "3.10.12"
  }
 },
 "nbformat": 4,
 "nbformat_minor": 2
}
