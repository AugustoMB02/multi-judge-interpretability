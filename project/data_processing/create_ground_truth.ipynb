{
 "cells": [
  {
   "cell_type": "code",
   "execution_count": 81,
   "metadata": {},
   "outputs": [],
   "source": [
    "from datasets import load_dataset\n",
    "from functools import reduce\n",
    "import pickle"
   ]
  },
  {
   "cell_type": "code",
   "execution_count": 29,
   "metadata": {},
   "outputs": [],
   "source": [
    "dataset_name = \"openbmb/UltraFeedback\"\n",
    "split_name = \"train\""
   ]
  },
  {
   "cell_type": "code",
   "execution_count": 30,
   "metadata": {},
   "outputs": [
    {
     "name": "stdout",
     "output_type": "stream",
     "text": [
      "Loading dataset 'openbmb/UltraFeedback' (split: 'train')...\n"
     ]
    }
   ],
   "source": [
    "print(f\"Loading dataset '{dataset_name}' (split: '{split_name}')...\")\n",
    "\n",
    "try:\n",
    "    ds = load_dataset(dataset_name, split=split_name)\n",
    "except Exception as e:\n",
    "    print(f\"Error loading dataset: {e}\")\n",
    "    print(\"Please ensure you have an internet connection, the 'datasets' library is installed (pip install datasets),\")\n",
    "    print(\"and the dataset name/split are correct.\")"
   ]
  },
  {
   "cell_type": "code",
   "execution_count": 49,
   "metadata": {},
   "outputs": [],
   "source": [
    "df = ds.to_pandas()"
   ]
  },
  {
   "cell_type": "code",
   "execution_count": 69,
   "metadata": {},
   "outputs": [],
   "source": [
    "def process_row(row):\n",
    "    models = row[\"models\"]\n",
    "    completions = row[\"completions\"]\n",
    "    source = row[\"source\"]\n",
    "    instruction = row[\"instruction\"]\n",
    "\n",
    "    results = []\n",
    "\n",
    "    for model, completion in zip(models, completions):\n",
    "        answer = completion[\"response\"]\n",
    "        score = completion[\"overall_score\"]\n",
    "        grader = completion[\"model\"]\n",
    "\n",
    "        results.append({\n",
    "            \"source\": source,\n",
    "            \"instruction\": instruction,\n",
    "            \"model\": model,\n",
    "            \"answer\": answer,\n",
    "            \"score\": score,\n",
    "            \"grader\": grader,\n",
    "        })\n",
    "    \n",
    "    return results\n",
    "    "
   ]
  },
  {
   "cell_type": "code",
   "execution_count": 71,
   "metadata": {},
   "outputs": [],
   "source": [
    "def convert_to_rows(df):\n",
    "    raw = [process_row(row) for _, row in df.iterrows()]\n",
    "    flat_map = lambda f, xs: reduce(lambda a, b: a + b, map(f, xs))\n",
    "    flattened = flat_map(lambda x: x, raw)\n",
    "    with open('array.pkl', 'wb') as f:\n",
    "        pickle.dump(flattened, f)\n",
    "\n",
    "convert_to_rows(df)"
   ]
  }
 ],
 "metadata": {
  "kernelspec": {
   "display_name": ".venv",
   "language": "python",
   "name": "python3"
  },
  "language_info": {
   "codemirror_mode": {
    "name": "ipython",
    "version": 3
   },
   "file_extension": ".py",
   "mimetype": "text/x-python",
   "name": "python",
   "nbconvert_exporter": "python",
   "pygments_lexer": "ipython3",
   "version": "3.10.12"
  }
 },
 "nbformat": 4,
 "nbformat_minor": 2
}
